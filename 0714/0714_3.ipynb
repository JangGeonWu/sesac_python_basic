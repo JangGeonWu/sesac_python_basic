{
 "cells": [
  {
   "cell_type": "markdown",
   "metadata": {},
   "source": [
    "# 내장 함수"
   ]
  },
  {
   "cell_type": "code",
   "execution_count": 1,
   "metadata": {},
   "outputs": [
    {
     "data": {
      "text/plain": [
       "2.95"
      ]
     },
     "execution_count": 1,
     "metadata": {},
     "output_type": "execute_result"
    }
   ],
   "source": [
    "# abs(x) : 절댓값을 돌려주는 함수\n",
    "abs(-2.95)"
   ]
  },
  {
   "cell_type": "code",
   "execution_count": 2,
   "metadata": {},
   "outputs": [
    {
     "name": "stdout",
     "output_type": "stream",
     "text": [
      "True\n",
      "False\n"
     ]
    }
   ],
   "source": [
    "# all(x): iterable한 자료형 x의 값이 모두 참이면 true, 하나라도 거짓이 있으면 false\n",
    "print(all([1,2,3]))\n",
    "print(all([0,1,2,3]))"
   ]
  },
  {
   "cell_type": "code",
   "execution_count": 3,
   "metadata": {},
   "outputs": [
    {
     "name": "stdout",
     "output_type": "stream",
     "text": [
      "False\n",
      "False\n",
      "True\n"
     ]
    }
   ],
   "source": [
    "# any(x): iterable한 자료형 x의 값이 모두 참이면 true, 하나라도 거짓이 있으면 false\n",
    "print(any([0]))\n",
    "print(any([0,\"\"]))\n",
    "print(any([0, 1]))"
   ]
  },
  {
   "cell_type": "code",
   "execution_count": 4,
   "metadata": {},
   "outputs": [
    {
     "data": {
      "text/plain": [
       "'b'"
      ]
     },
     "execution_count": 4,
     "metadata": {},
     "output_type": "execute_result"
    }
   ],
   "source": [
    "# chr(i): ascii code값에 해당하는 문자 출력\n",
    "chr(98)"
   ]
  },
  {
   "cell_type": "code",
   "execution_count": 8,
   "metadata": {},
   "outputs": [
    {
     "data": {
      "text/plain": [
       "46"
      ]
     },
     "execution_count": 8,
     "metadata": {},
     "output_type": "execute_result"
    }
   ],
   "source": [
    "# dir(x): x가 자체적으로 가지는 변수나 함수를 보임\n",
    "# dir([1,2,3]) # list가 가지는 함수 출력\n",
    "# dir({1:2}) # dictionary가 가지는 함수 출력\n",
    "len(dir([1,2,3])) # list는 총 46개의 변수or함수를 가짐"
   ]
  },
  {
   "cell_type": "code",
   "execution_count": 9,
   "metadata": {},
   "outputs": [
    {
     "data": {
      "text/plain": [
       "(2, 1)"
      ]
     },
     "execution_count": 9,
     "metadata": {},
     "output_type": "execute_result"
    }
   ],
   "source": [
    "# divmod(/, %): divmod(a,b)는 a를 b로 나눈 몫과 나머지를 튜플 형태로 제공한다\n",
    "divmod(7,3)"
   ]
  },
  {
   "cell_type": "code",
   "execution_count": 12,
   "metadata": {},
   "outputs": [
    {
     "name": "stdout",
     "output_type": "stream",
     "text": [
      "(0, 'a')\n",
      "<class 'tuple'>\n",
      "(1, 'b')\n",
      "<class 'tuple'>\n",
      "(2, 'c')\n",
      "<class 'tuple'>\n",
      "0 d\n",
      "1 e\n",
      "2 f\n"
     ]
    }
   ],
   "source": [
    "# enumerate : 열거하다라는 뜻, 인덱스와 값을 튜플로 출력\n",
    "for j in enumerate(['a','b','c']):\n",
    "    print(j)\n",
    "    print(type(j))\n",
    "\n",
    "for index, value in enumerate(['d', 'e', 'f']):\n",
    "    print(index, value)\n"
   ]
  },
  {
   "cell_type": "code",
   "execution_count": 15,
   "metadata": {},
   "outputs": [
    {
     "name": "stdout",
     "output_type": "stream",
     "text": [
      "3\n",
      "hia\n",
      "(1, 2)\n"
     ]
    }
   ],
   "source": [
    "# eval(expression) : 실행가능한 '문자열'을 입력으로 받아 결괏값을 돌려주는 함수.\n",
    "print(eval('1+2'))\n",
    "print(eval('\"hi\" + \"a\"'))\n",
    "print(eval('divmod(5,3)'))"
   ]
  },
  {
   "cell_type": "code",
   "execution_count": 31,
   "metadata": {},
   "outputs": [
    {
     "name": "stdout",
     "output_type": "stream",
     "text": [
      "[1, 4, 5]\n",
      "[True, False, True, False, False, True, False]\n",
      "[1, 4, 5]\n"
     ]
    }
   ],
   "source": [
    "# filter(함수 이름, 자료형): 이때, 반환값이 '참'인 것만 묶어 리턴. 결과 값이 아니라 참/거짓 유무를 판단하는 점에 유의.\n",
    "def pos(x):\n",
    "    return x > 0\n",
    "\n",
    "print(list(filter(pos, [1,-3,4,-6,0,5,-5]))) \n",
    "\n",
    "# lambda를 사용하면 더욱 간편하게 코드를 작성할 수 있다.\n",
    "k = list(map(lambda x: x>0, [1,-3,4,-6,0,5,-5])) # lambda의 결과값은 T, F\n",
    "print(k)\n",
    "print(list(filter(lambda x: x>0, [1,-3,4,-6,0,5,-5]))) # T, F를 기반으로 T인 것만 리턴"
   ]
  },
  {
   "cell_type": "code",
   "execution_count": 34,
   "metadata": {},
   "outputs": [
    {
     "data": {
      "text/plain": [
       "'0x23'"
      ]
     },
     "execution_count": 34,
     "metadata": {},
     "output_type": "execute_result"
    }
   ],
   "source": [
    "# hex(x): 16진수로 변환\n",
    "hex(35)"
   ]
  },
  {
   "cell_type": "code",
   "execution_count": 35,
   "metadata": {},
   "outputs": [
    {
     "data": {
      "text/plain": [
       "2417422716552"
      ]
     },
     "execution_count": 35,
     "metadata": {},
     "output_type": "execute_result"
    }
   ],
   "source": [
    "# id(x) : address value return\n",
    "id(k)"
   ]
  },
  {
   "cell_type": "code",
   "execution_count": 37,
   "metadata": {},
   "outputs": [
    {
     "name": "stdout",
     "output_type": "stream",
     "text": [
      "True False\n"
     ]
    }
   ],
   "source": [
    "# isinstance(object, class): 해당 객체가 클래스의 인스턴스인지 확인.\n",
    "\n",
    "class Person:\n",
    "    pass\n",
    "\n",
    "a = Person()\n",
    "b = 10\n",
    "\n",
    "print(isinstance(a, Person), isinstance(b, Person))"
   ]
  },
  {
   "cell_type": "code",
   "execution_count": 38,
   "metadata": {},
   "outputs": [
    {
     "name": "stdout",
     "output_type": "stream",
     "text": [
      "['h', 'e', 'l', 'l', 'o', '~']\n"
     ]
    }
   ],
   "source": [
    "# list(s)는 iterable한 자료형을 입력받아 리스트로 만들어 돌려주는 함수\n",
    "print(list('hello~'))"
   ]
  },
  {
   "cell_type": "code",
   "execution_count": 41,
   "metadata": {},
   "outputs": [
    {
     "name": "stdout",
     "output_type": "stream",
     "text": [
      "[8, -2, 198, -18, 64, 8, 16]\n",
      "[8, -2, 198, -18, 64, 8, 16]\n"
     ]
    }
   ],
   "source": [
    "# map(f, x): 함수f와 iterable한 자료형 x를 입력으로 받아, x의 각 요소를 함수 f에 적용시킨 결과를 묶어서 돌려줌\n",
    "def selfadd(x):\n",
    "    return x + x\n",
    "\n",
    "print(list(map(selfadd, [4,-1,99,-9,32,4,8])))\n",
    "\n",
    "print(list(map(lambda x : x+x, [4,-1,99,-9,32,4,8])))"
   ]
  },
  {
   "cell_type": "code",
   "execution_count": 42,
   "metadata": {},
   "outputs": [
    {
     "name": "stdout",
     "output_type": "stream",
     "text": [
      "99\n",
      "-9\n",
      "[4, -1, 99, -9, 32, 4, 8]\n"
     ]
    }
   ],
   "source": [
    "# max, min\n",
    "print(max([4,-1,99,-9,32,4,8]))\n",
    "print(min([4,-1,99,-9,32,4,8]))\n",
    "print(([4,-1,99,-9,32,4,8]))"
   ]
  },
  {
   "cell_type": "code",
   "execution_count": 43,
   "metadata": {},
   "outputs": [
    {
     "data": {
      "text/plain": [
       "'0o17'"
      ]
     },
     "execution_count": 43,
     "metadata": {},
     "output_type": "execute_result"
    }
   ],
   "source": [
    "# oct(x): 8진수\n",
    "oct(15)"
   ]
  },
  {
   "cell_type": "code",
   "execution_count": 45,
   "metadata": {},
   "outputs": [
    {
     "ename": "TypeError",
     "evalue": "ord() expected a character, but string of length 2 found",
     "output_type": "error",
     "traceback": [
      "\u001b[1;31m---------------------------------------------------------------------------\u001b[0m",
      "\u001b[1;31mTypeError\u001b[0m                                 Traceback (most recent call last)",
      "\u001b[1;32m<ipython-input-45-8ac32fd0f79e>\u001b[0m in \u001b[0;36m<module>\u001b[1;34m\u001b[0m\n\u001b[0;32m      1\u001b[0m \u001b[1;31m# ord(c): 문자의 아스키코드 값(number)을 반환\u001b[0m\u001b[1;33m\u001b[0m\u001b[1;33m\u001b[0m\u001b[1;33m\u001b[0m\u001b[0m\n\u001b[0;32m      2\u001b[0m \u001b[0mord\u001b[0m\u001b[1;33m(\u001b[0m\u001b[1;34m'a'\u001b[0m\u001b[1;33m)\u001b[0m\u001b[1;33m\u001b[0m\u001b[1;33m\u001b[0m\u001b[0m\n\u001b[1;32m----> 3\u001b[1;33m \u001b[0mord\u001b[0m\u001b[1;33m(\u001b[0m\u001b[1;34m'hi'\u001b[0m\u001b[1;33m)\u001b[0m\u001b[1;33m\u001b[0m\u001b[1;33m\u001b[0m\u001b[0m\n\u001b[0m",
      "\u001b[1;31mTypeError\u001b[0m: ord() expected a character, but string of length 2 found"
     ]
    }
   ],
   "source": [
    "# ord(c): 문자의 아스키코드 값(number)을 반환\n",
    "ord('a')\n",
    "# ord('hi') : 문자가 아닌 문자열을 입력했으므로 에러"
   ]
  },
  {
   "cell_type": "code",
   "execution_count": 46,
   "metadata": {},
   "outputs": [
    {
     "data": {
      "text/plain": [
       "8"
      ]
     },
     "execution_count": 46,
     "metadata": {},
     "output_type": "execute_result"
    }
   ],
   "source": [
    "# pow(a, b): a**b 수행하여 반환\n",
    "pow(2,3)"
   ]
  },
  {
   "cell_type": "code",
   "execution_count": 47,
   "metadata": {},
   "outputs": [
    {
     "data": {
      "text/plain": [
       "3.14"
      ]
     },
     "execution_count": 47,
     "metadata": {},
     "output_type": "execute_result"
    }
   ],
   "source": [
    "# range(start, stop, step): start와 step은 생략 가능(start_default = 0, step_default = 1)\n",
    "# round(number, ndigits): 반올림, ndigits_default = 0\n",
    "round(3.14159, 2)"
   ]
  },
  {
   "cell_type": "code",
   "execution_count": 48,
   "metadata": {},
   "outputs": [
    {
     "data": {
      "text/plain": [
       "[1, 5, 6, 7, 8]"
      ]
     },
     "execution_count": 48,
     "metadata": {},
     "output_type": "execute_result"
    }
   ],
   "source": [
    "# sorted(iterable): iterable한 자료형을 정렬한 후 '리스트'로 반환하는 함수\n",
    "sorted([5,8,7,1,6])"
   ]
  },
  {
   "cell_type": "code",
   "execution_count": 49,
   "metadata": {},
   "outputs": [
    {
     "data": {
      "text/plain": [
       "['e', 'h', 'l', 'l', 'o']"
      ]
     },
     "execution_count": 49,
     "metadata": {},
     "output_type": "execute_result"
    }
   ],
   "source": [
    "sorted('hello')"
   ]
  },
  {
   "cell_type": "code",
   "execution_count": 51,
   "metadata": {},
   "outputs": [
    {
     "data": {
      "text/plain": [
       "['h', 'i', 'o', 'y']"
      ]
     },
     "execution_count": 51,
     "metadata": {},
     "output_type": "execute_result"
    }
   ],
   "source": [
    "sorted('hi' +'yo')"
   ]
  },
  {
   "cell_type": "code",
   "execution_count": 53,
   "metadata": {},
   "outputs": [],
   "source": [
    "# sorted([1,4,3,'a']) # 자료형이 섞인 경우 작동하지 않음(TypeError: '<' not supported between instances of 'str' and 'int')"
   ]
  },
  {
   "cell_type": "code",
   "execution_count": 54,
   "metadata": {},
   "outputs": [
    {
     "data": {
      "text/plain": [
       "'3'"
      ]
     },
     "execution_count": 54,
     "metadata": {},
     "output_type": "execute_result"
    }
   ],
   "source": [
    "# str(x): 문자열 형태로 객체 반환\n",
    "str(3)"
   ]
  },
  {
   "cell_type": "code",
   "execution_count": 58,
   "metadata": {},
   "outputs": [
    {
     "ename": "TypeError",
     "evalue": "unsupported operand type(s) for +: 'int' and 'str'",
     "output_type": "error",
     "traceback": [
      "\u001b[1;31m---------------------------------------------------------------------------\u001b[0m",
      "\u001b[1;31mTypeError\u001b[0m                                 Traceback (most recent call last)",
      "\u001b[1;32m<ipython-input-58-67169d817df6>\u001b[0m in \u001b[0;36m<module>\u001b[1;34m\u001b[0m\n\u001b[0;32m      1\u001b[0m \u001b[1;31m# sum(iterable): 리스트나 튜플의 모든 요소의 합을 반환\u001b[0m\u001b[1;33m\u001b[0m\u001b[1;33m\u001b[0m\u001b[1;33m\u001b[0m\u001b[0m\n\u001b[0;32m      2\u001b[0m \u001b[1;31m# sum([65,7,21,5,3,5])\u001b[0m\u001b[1;33m\u001b[0m\u001b[1;33m\u001b[0m\u001b[1;33m\u001b[0m\u001b[0m\n\u001b[1;32m----> 3\u001b[1;33m \u001b[0msum\u001b[0m\u001b[1;33m(\u001b[0m\u001b[1;33m[\u001b[0m\u001b[1;34m'h'\u001b[0m\u001b[1;33m,\u001b[0m\u001b[1;34m'e'\u001b[0m\u001b[1;33m,\u001b[0m\u001b[1;34m'l'\u001b[0m\u001b[1;33m,\u001b[0m\u001b[1;34m'l'\u001b[0m\u001b[1;33m,\u001b[0m\u001b[1;34m'o'\u001b[0m\u001b[1;33m]\u001b[0m\u001b[1;33m)\u001b[0m \u001b[1;31m# 당연히 문자열은 안됨\u001b[0m\u001b[1;33m\u001b[0m\u001b[1;33m\u001b[0m\u001b[0m\n\u001b[0m",
      "\u001b[1;31mTypeError\u001b[0m: unsupported operand type(s) for +: 'int' and 'str'"
     ]
    }
   ],
   "source": [
    "# sum(iterable): 리스트나 튜플의 모든 요소의 합을 반환\n",
    "# sum([65,7,21,5,3,5])\n",
    "sum(['h','e','l','l','o']) # 당연히 문자열은 안됨"
   ]
  },
  {
   "cell_type": "code",
   "execution_count": 59,
   "metadata": {},
   "outputs": [
    {
     "data": {
      "text/plain": [
       "('h', 'e', 'l', 'l', 'o')"
      ]
     },
     "execution_count": 59,
     "metadata": {},
     "output_type": "execute_result"
    }
   ],
   "source": [
    "# tuple(X): 반복 가능한 자료형(리스트, 셋)을 튜플 형태로 바꿔 반환\n",
    "tuple('hello')"
   ]
  },
  {
   "cell_type": "code",
   "execution_count": 60,
   "metadata": {},
   "outputs": [
    {
     "name": "stdout",
     "output_type": "stream",
     "text": [
      "7\n",
      "12\n"
     ]
    }
   ],
   "source": [
    "# lambda: 함수를 한 줄로 간결하게 만들 때 사용\n",
    "mylist = [lambda a, b: a+b, lambda a,b:a*b]\n",
    "\n",
    "print(mylist[0](3,4))\n",
    "print(mylist[1](3,4))\n"
   ]
  },
  {
   "cell_type": "code",
   "execution_count": 64,
   "metadata": {},
   "outputs": [
    {
     "name": "stdout",
     "output_type": "stream",
     "text": [
      "[(1, 6), (2, 7), (3, 8)]\n",
      "[('a', 'y'), ('d', 'r'), ('g', 'e')]\n",
      "{1: 6, 2: 7, 3: 8}\n"
     ]
    }
   ],
   "source": [
    "# zip(*iterable): 동일한 개수로 이루어진 자료형을 묶음!\n",
    "# 가장 짧은 인자를 기준으로 데이터가 엮이고, 나머지는 버려지기 때문에 주의해야 한다.\n",
    "print(list(zip([1,2,3], [6,7,8])))\n",
    "print(list(zip('adg','yre')))\n",
    "# 주로 dictionary 형으로 변환할 때 자주 이용한다.\n",
    "print(dict(list(zip([1,2,3], [6,7,8,9]))))"
   ]
  },
  {
   "cell_type": "code",
   "execution_count": null,
   "metadata": {},
   "outputs": [],
   "source": []
  }
 ],
 "metadata": {
  "kernelspec": {
   "display_name": "Python 3.6.8 64-bit",
   "language": "python",
   "name": "python3"
  },
  "language_info": {
   "codemirror_mode": {
    "name": "ipython",
    "version": 3
   },
   "file_extension": ".py",
   "mimetype": "text/x-python",
   "name": "python",
   "nbconvert_exporter": "python",
   "pygments_lexer": "ipython3",
   "version": "3.6.8"
  },
  "orig_nbformat": 4,
  "vscode": {
   "interpreter": {
    "hash": "e4155384af5840d15d68e8597407fad2e99d1893f7ce8c3788bc9723b5f2c767"
   }
  }
 },
 "nbformat": 4,
 "nbformat_minor": 2
}
