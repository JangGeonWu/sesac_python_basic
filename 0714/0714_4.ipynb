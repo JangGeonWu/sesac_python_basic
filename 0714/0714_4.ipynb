{
 "cells": [
  {
   "cell_type": "markdown",
   "metadata": {},
   "source": [
    "## 라이브러리\n",
    "___\n",
    "\n",
    "### sys"
   ]
  },
  {
   "cell_type": "code",
   "execution_count": 1,
   "metadata": {},
   "outputs": [
    {
     "name": "stdout",
     "output_type": "stream",
     "text": [
      "['c:\\\\Users\\\\user\\\\AppData\\\\Local\\\\Programs\\\\Python\\\\Python36\\\\lib\\\\site-packages\\\\ipykernel_launcher.py', '--ip=127.0.0.1', '--stdin=9008', '--control=9006', '--hb=9005', '--Session.signature_scheme=\"hmac-sha256\"', '--Session.key=b\"d2de85ce-67ba-4e9c-9532-c42a24c96f96\"', '--shell=9007', '--transport=\"tcp\"', '--iopub=9009', '--f=c:\\\\Users\\\\user\\\\AppData\\\\Roaming\\\\jupyter\\\\runtime\\\\kernel-v2-94527F0TRWDeUGGY.json']\n"
     ]
    }
   ],
   "source": [
    "# sys.argv -- 명령 행에서 인수 전달하기\n",
    "# argv_test.py\n",
    "import sys\n",
    "print(sys.argv)"
   ]
  },
  {
   "cell_type": "markdown",
   "metadata": {},
   "source": [
    "![PNG](../images/sys_argv.PNG)"
   ]
  },
  {
   "cell_type": "code",
   "execution_count": null,
   "metadata": {},
   "outputs": [],
   "source": [
    "# sys.exit -- 강제로 스크립트 종료하기\n",
    "sys.exit()\n",
    "# Ctrl + Z 와 가은 역할 수행"
   ]
  },
  {
   "cell_type": "markdown",
   "metadata": {},
   "source": [
    "![PNG](../images/sys_exit.PNG)"
   ]
  },
  {
   "cell_type": "code",
   "execution_count": null,
   "metadata": {},
   "outputs": [],
   "source": [
    "# sys.path -- 자신이 만든 모듈 불러와 사용하기\n",
    "\n",
    "\n",
    "# import sys\n",
    "# sys.path.append('원하는 경로')\n",
    "# 해당 경로에 있는 파이썬 모듈을 불러와서 사용할 수 있다."
   ]
  },
  {
   "cell_type": "markdown",
   "metadata": {},
   "source": [
    "### pickle\n",
    "\n",
    "- 객체의 형태를 그대로 유지하면서 파일에 저장하고 불러올 수 있게 하는 모듈.\n",
    "- 아래의 예시는 pickle 모듈의 dump 함수를 사용하여 딕셔너리 객체인 data를 그대로 파일에 저장하는 방법을 보여준다.\n",
    "- 단, 아래와 같이 객체의 형태를 바이너리 형태로 입력이 되는 것에 유의할 것\n",
    "\n",
    "    ![PNG](../images/pickle.PNG)"
   ]
  },
  {
   "cell_type": "code",
   "execution_count": 4,
   "metadata": {},
   "outputs": [],
   "source": [
    "\n",
    "import pickle\n",
    "f = open(\"../test.txt\", \"wb\")\n",
    "data = {1:'python', 2:'you need'}\n",
    "pickle.dump(data, f)\n",
    "f.close()\n"
   ]
  },
  {
   "cell_type": "code",
   "execution_count": 5,
   "metadata": {},
   "outputs": [
    {
     "name": "stdout",
     "output_type": "stream",
     "text": [
      "{1: 'python', 2: 'you need'}\n"
     ]
    }
   ],
   "source": [
    "f = open(\"../test.txt\", 'rb')\n",
    "d = pickle.load(f)\n",
    "print(data)"
   ]
  },
  {
   "cell_type": "markdown",
   "metadata": {},
   "source": [
    "### OS\n",
    " - OS 모듈은 환경 변수나 디렉터리, 파일 등의 OS 자원을 제어할 수 있게 해주는 모듈이다."
   ]
  },
  {
   "cell_type": "code",
   "execution_count": 9,
   "metadata": {},
   "outputs": [
    {
     "name": "stdout",
     "output_type": "stream",
     "text": [
      "environ({'ALLUSERSPROFILE': 'C:\\\\ProgramData', 'APPDATA': 'C:\\\\Users\\\\user\\\\AppData\\\\Roaming', 'APPLICATION_INSIGHTS_NO_DIAGNOSTIC_CHANNEL': '1', 'CHROME_CRASHPAD_PIPE_NAME': '\\\\\\\\.\\\\pipe\\\\crashpad_1792_JHALMLOFVUSVUCQM', 'COMMONPROGRAMFILES': 'C:\\\\Program Files\\\\Common Files', 'COMMONPROGRAMFILES(X86)': 'C:\\\\Program Files (x86)\\\\Common Files', 'COMMONPROGRAMW6432': 'C:\\\\Program Files\\\\Common Files', 'COMPUTERNAME': 'DESKTOP-1JHGQ0T', 'COMSPEC': 'C:\\\\windows\\\\system32\\\\cmd.exe', 'CONFIGSETROOT': 'C:\\\\windows\\\\ConfigSetRoot', 'DRIVERDATA': 'C:\\\\Windows\\\\System32\\\\Drivers\\\\DriverData', 'ELECTRON_RUN_AS_NODE': '1', 'HOMEDRIVE': 'C:', 'HOMEPATH': '\\\\Users\\\\user', 'JPY_INTERRUPT_EVENT': '1784', 'LOCALAPPDATA': 'C:\\\\Users\\\\user\\\\AppData\\\\Local', 'LOGONSERVER': '\\\\\\\\DESKTOP-1JHGQ0T', 'NUMBER_OF_PROCESSORS': '8', 'ONEDRIVE': 'C:\\\\Users\\\\user\\\\OneDrive', 'ONEDRIVECONSUMER': 'C:\\\\Users\\\\user\\\\OneDrive', 'ORIGINAL_XDG_CURRENT_DESKTOP': 'undefined', 'OS': 'Windows_NT', 'PATH': 'c:\\\\Users\\\\user\\\\AppData\\\\Local\\\\Programs\\\\Python\\\\Python36\\\\lib\\\\site-packages\\\\pywin32_system32;c:\\\\Users\\\\user\\\\AppData\\\\Local\\\\Programs\\\\Python\\\\Python36;C:\\\\oraclexe\\\\app\\\\oracle\\\\product\\\\11.2.0\\\\server\\\\bin;C:\\\\Windows\\\\system32;C:\\\\Windows;C:\\\\Windows\\\\System32\\\\Wbem;C:\\\\Windows\\\\System32\\\\WindowsPowerShell\\\\v1.0\\\\;C:\\\\Windows\\\\System32\\\\OpenSSH\\\\;C:\\\\Program Files (x86)\\\\NVIDIA Corporation\\\\PhysX\\\\Common;C:\\\\Program Files\\\\Bandizip\\\\;C:\\\\Program Files\\\\Git\\\\cmd;C:\\\\Program Files\\\\MySQL\\\\MySQL Shell 8.0\\\\bin\\\\;C:\\\\Users\\\\user\\\\AppData\\\\Local\\\\Programs\\\\Python\\\\Python36\\\\Scripts\\\\;C:\\\\Users\\\\user\\\\AppData\\\\Local\\\\Programs\\\\Python\\\\Python36\\\\;C:\\\\Users\\\\user\\\\AppData\\\\Local\\\\Microsoft\\\\WindowsApps;C:\\\\Users\\\\user\\\\AppData\\\\Local\\\\Programs\\\\Microsoft VS Code\\\\bin', 'PATHEXT': '.COM;.EXE;.BAT;.CMD;.VBS;.VBE;.JS;.JSE;.WSF;.WSH;.MSC', 'PROCESSOR_ARCHITECTURE': 'AMD64', 'PROCESSOR_IDENTIFIER': 'Intel64 Family 6 Model 158 Stepping 13, GenuineIntel', 'PROCESSOR_LEVEL': '6', 'PROCESSOR_REVISION': '9e0d', 'PROGRAMDATA': 'C:\\\\ProgramData', 'PROGRAMFILES': 'C:\\\\Program Files', 'PROGRAMFILES(X86)': 'C:\\\\Program Files (x86)', 'PROGRAMW6432': 'C:\\\\Program Files', 'PSMODULEPATH': 'C:\\\\Program Files\\\\WindowsPowerShell\\\\Modules;C:\\\\windows\\\\system32\\\\WindowsPowerShell\\\\v1.0\\\\Modules', 'PUBLIC': 'C:\\\\Users\\\\Public', 'PYTHONIOENCODING': 'utf-8', 'PYTHONUNBUFFERED': '1', 'SESSIONNAME': 'Console', 'SYSTEMDRIVE': 'C:', 'SYSTEMROOT': 'C:\\\\windows', 'TEMP': 'C:\\\\Users\\\\user\\\\AppData\\\\Local\\\\Temp', 'TMP': 'C:\\\\Users\\\\user\\\\AppData\\\\Local\\\\Temp', 'USERDOMAIN': 'DESKTOP-1JHGQ0T', 'USERDOMAIN_ROAMINGPROFILE': 'DESKTOP-1JHGQ0T', 'USERNAME': 'user', 'USERPROFILE': 'C:\\\\Users\\\\user', 'VSCODE_AMD_ENTRYPOINT': 'vs/workbench/api/node/extensionHostProcess', 'VSCODE_CODE_CACHE_PATH': 'C:\\\\Users\\\\user\\\\AppData\\\\Roaming\\\\Code\\\\CachedData\\\\92d25e35d9bf1a6b16f7d0758f25d48ace11e5b9', 'VSCODE_CWD': 'C:\\\\Users\\\\user\\\\AppData\\\\Local\\\\Programs\\\\Microsoft VS Code', 'VSCODE_HANDLES_UNCAUGHT_ERRORS': 'true', 'VSCODE_IPC_HOOK': '\\\\\\\\.\\\\pipe\\\\680802a3ebd40da3f83beb9d3e841b70-1.69.0-main-sock', 'VSCODE_NLS_CONFIG': '{\"locale\":\"ko\",\"availableLanguages\":{},\"_languagePackSupport\":true}', 'VSCODE_PID': '1792', 'WINDIR': 'C:\\\\windows', 'TERM': 'xterm-color', 'CLICOLOR': '1', 'PAGER': 'cat', 'GIT_PAGER': 'cat', 'MPLBACKEND': 'module://ipykernel.pylab.backend_inline'})\n",
      "<class 'os._Environ'>\n",
      "c:\\Users\\user\\AppData\\Local\\Programs\\Python\\Python36\\lib\\site-packages\\pywin32_system32;c:\\Users\\user\\AppData\\Local\\Programs\\Python\\Python36;C:\\oraclexe\\app\\oracle\\product\\11.2.0\\server\\bin;C:\\Windows\\system32;C:\\Windows;C:\\Windows\\System32\\Wbem;C:\\Windows\\System32\\WindowsPowerShell\\v1.0\\;C:\\Windows\\System32\\OpenSSH\\;C:\\Program Files (x86)\\NVIDIA Corporation\\PhysX\\Common;C:\\Program Files\\Bandizip\\;C:\\Program Files\\Git\\cmd;C:\\Program Files\\MySQL\\MySQL Shell 8.0\\bin\\;C:\\Users\\user\\AppData\\Local\\Programs\\Python\\Python36\\Scripts\\;C:\\Users\\user\\AppData\\Local\\Programs\\Python\\Python36\\;C:\\Users\\user\\AppData\\Local\\Microsoft\\WindowsApps;C:\\Users\\user\\AppData\\Local\\Programs\\Microsoft VS Code\\bin\n"
     ]
    }
   ],
   "source": [
    "# os.environ -- 내 시스템의 '환경변수'를 알고 싶을 때\n",
    "import os\n",
    "print(os.environ)\n",
    "print(type(os.environ)) # os._environ이라는 클래스\n",
    "print(os.environ['PATH']) # 환경변수 중 PATH 내용만 가져옴"
   ]
  },
  {
   "cell_type": "code",
   "execution_count": 13,
   "metadata": {},
   "outputs": [],
   "source": [
    "# 디렉터리 위치 변경하기 - os.chdir\n",
    "# 현재 자신의 디렉터리 위치 돌려받기 - os.getcwd\n",
    "# 시스템 명령어 호출하기 - os.system(시스템 명령어)"
   ]
  },
  {
   "cell_type": "markdown",
   "metadata": {},
   "source": [
    "![PNG](../images/os.PNG)\n",
    "\n",
    "- \\가 아닌 /을 사용해야 한다.\n",
    "\n",
    "![PNG](../images/os1.PNG)\n"
   ]
  },
  {
   "cell_type": "code",
   "execution_count": null,
   "metadata": {},
   "outputs": [],
   "source": [
    "# 실행한 시스템 명령어의 결괏값 돌려받기\n",
    "# f = os.popen('dir')\n",
    "# print(f.read())"
   ]
  },
  {
   "cell_type": "markdown",
   "metadata": {},
   "source": [
    "![PNG](../images/os_popen.PNG)\n",
    "\n",
    "\n",
    "#### 기타 유용한 os 관련 함수\n",
    "\n",
    "|함수|설명|\n",
    "|--|--|\n",
    "|os.mkdir(dir_name)|디렉토리 생성|\n",
    "|os.rmdir(dir_name)|디렉토리 삭제(단, 비어있어야 함)|\n",
    "|os.unlink(file_name)|파일 제거|\n",
    "|os.rename(src, dest)|src라는 파일의 이름을 dest로 변|"
   ]
  },
  {
   "cell_type": "markdown",
   "metadata": {},
   "source": [
    "### shutil\n",
    "\n",
    "- 파일을 복사해 주는 파이썬 모듈\n",
    "- src라는 이름의 파일을 dst로 복사하는 케이스로, dst가 디렉터리 이름이라면 해당 디렉터리에 복사하고 동일한 파일 이름이 있을 때는 '덮어씌운다'."
   ]
  },
  {
   "cell_type": "markdown",
   "metadata": {},
   "source": [
    "- 실행 결과\n",
    "    - 파일을 다른 이름으로 복사\n",
    "\n",
    "    ![PNG](../images/shutil1.PNG)\n",
    "\n",
    "    - 파일을 원하는 디렉터리에 복사\n",
    "    \n",
    "    ![PNG](../images/shutil2.PNG) "
   ]
  },
  {
   "cell_type": "code",
   "execution_count": 14,
   "metadata": {},
   "outputs": [
    {
     "data": {
      "text/plain": [
       "'../test2.txt'"
      ]
     },
     "execution_count": 14,
     "metadata": {},
     "output_type": "execute_result"
    }
   ],
   "source": [
    "import shutil\n",
    "shutil.copy(\"../test1.txt\", '../test2.txt')"
   ]
  },
  {
   "cell_type": "code",
   "execution_count": 15,
   "metadata": {},
   "outputs": [
    {
     "data": {
      "text/plain": [
       "'../images\\\\test1.txt'"
      ]
     },
     "execution_count": 15,
     "metadata": {},
     "output_type": "execute_result"
    }
   ],
   "source": [
    "shutil.copy('../test1.txt', '../images')"
   ]
  },
  {
   "cell_type": "markdown",
   "metadata": {},
   "source": [
    "### glob\n",
    "- 특정 디렉터리에 있는 파일 이름 모두를 파악할 때 사용\n",
    "- glob.glob(\"특정디렉터리\")"
   ]
  },
  {
   "cell_type": "code",
   "execution_count": 21,
   "metadata": {},
   "outputs": [
    {
     "name": "stdout",
     "output_type": "stream",
     "text": [
      "['..\\\\0707-0713', '..\\\\0714', '..\\\\dream1.txt', '..\\\\images', '..\\\\README.md', '..\\\\sesac_data_visualization', '..\\\\sesac_data_webcrolling', '..\\\\test.txt', '..\\\\test1.txt', '..\\\\test2.txt', '..\\\\tt.py']\n",
      "['..\\\\0707-0713', '..\\\\0714']\n"
     ]
    }
   ],
   "source": [
    "import glob\n",
    "print(glob.glob(\"../*\")) # 부모 디렉터리의 모든(*) 파일을 가져옴, * 부분에 원하는 문자열 넣으면 select처럼 사용 가능\n",
    "print(glob.glob(\"../07*\")) # 07로 시작하는 파일만 가져옴"
   ]
  },
  {
   "cell_type": "markdown",
   "metadata": {},
   "source": [
    "### tempfile\n",
    "- 파일을 임시로 만들어서 사용할 때 주로 사용. 중복되지 않는 임시 파일의 이름을 무작위로 만들어서 반환한다.\n",
    "\n",
    "    ![PNG](../images/tempfile.PNG)"
   ]
  },
  {
   "cell_type": "code",
   "execution_count": 22,
   "metadata": {},
   "outputs": [
    {
     "data": {
      "text/plain": [
       "(5, 'C:\\\\Users\\\\user\\\\AppData\\\\Local\\\\Temp\\\\tmpahx0dy56')"
      ]
     },
     "execution_count": 22,
     "metadata": {},
     "output_type": "execute_result"
    }
   ],
   "source": [
    "import tempfile\n",
    "filename = tempfile.mkstemp()\n",
    "filename"
   ]
  },
  {
   "cell_type": "code",
   "execution_count": null,
   "metadata": {},
   "outputs": [],
   "source": [
    "# tempfile.TemporaryFile() -- 임시 저장 공간, wb 형태를 가지며, f.close()로 닫아야 한다.\n",
    "f = tempfile.TemporaryFile()\n",
    "f.close()"
   ]
  },
  {
   "cell_type": "markdown",
   "metadata": {},
   "source": [
    "### TIME\n",
    "- 시간과 관련된 모듈"
   ]
  },
  {
   "cell_type": "code",
   "execution_count": 23,
   "metadata": {},
   "outputs": [
    {
     "data": {
      "text/plain": [
       "1657775105.1105664"
      ]
     },
     "execution_count": 23,
     "metadata": {},
     "output_type": "execute_result"
    }
   ],
   "source": [
    "import time\n",
    "time.time() # 현재 시간을 '실수'형태로 보여준다."
   ]
  },
  {
   "cell_type": "code",
   "execution_count": 24,
   "metadata": {},
   "outputs": [
    {
     "data": {
      "text/plain": [
       "time.struct_time(tm_year=2022, tm_mon=7, tm_mday=14, tm_hour=14, tm_min=5, tm_sec=35, tm_wday=3, tm_yday=195, tm_isdst=0)"
      ]
     },
     "execution_count": 24,
     "metadata": {},
     "output_type": "execute_result"
    }
   ],
   "source": [
    "time.localtime() # 현재 시간을 연도-월-일-시-분-초-요일-(연 기준)일자...의 형태로 출력"
   ]
  },
  {
   "cell_type": "code",
   "execution_count": 27,
   "metadata": {},
   "outputs": [
    {
     "data": {
      "text/plain": [
       "'Thu Jul 14 14:07:20 2022'"
      ]
     },
     "execution_count": 27,
     "metadata": {},
     "output_type": "execute_result"
    }
   ],
   "source": [
    "# time.asctime(time.localtime(time.time())) # localtime 형태의 날짜와 시간을 알아보기 쉽게 돌려줌.\n",
    "time.asctime() # 인자에 아무것도 없으면 현재 시간 정보를 출력"
   ]
  },
  {
   "cell_type": "code",
   "execution_count": 28,
   "metadata": {},
   "outputs": [
    {
     "data": {
      "text/plain": [
       "'Thu Jul 14 14:07:59 2022'"
      ]
     },
     "execution_count": 28,
     "metadata": {},
     "output_type": "execute_result"
    }
   ],
   "source": [
    "time.ctime() # 항상 '현재'시간만을 출력. 출력 포맷은 asctime과 같다."
   ]
  },
  {
   "cell_type": "markdown",
   "metadata": {},
   "source": [
    "#### time.strftime('출력할 형식 포맷 코드', time.localtime(~~~))\n",
    "- strftime은 시간에 관계된 것을 세밀하게 표현하는 여러 가지 포맷 코드를 제공함\n",
    "\n"
   ]
  },
  {
   "cell_type": "code",
   "execution_count": 32,
   "metadata": {},
   "outputs": [
    {
     "name": "stdout",
     "output_type": "stream",
     "text": [
      "0\n",
      "1\n",
      "2\n",
      "3\n",
      "4\n",
      "5\n",
      "6\n",
      "7\n",
      "8\n",
      "9\n"
     ]
    }
   ],
   "source": [
    "for i in range(10):\n",
    "    print(i)\n",
    "    time.sleep(1) # 1초씩 재운다(시간 간격을 둔다.), 루프문에서 여유를 줄 때 사용"
   ]
  },
  {
   "cell_type": "markdown",
   "metadata": {},
   "source": [
    "### calender\n",
    " - 파이썬에서 달력을 볼 수 있게 해줌"
   ]
  },
  {
   "cell_type": "code",
   "execution_count": 34,
   "metadata": {},
   "outputs": [
    {
     "name": "stdout",
     "output_type": "stream",
     "text": [
      "                                  2022\n",
      "\n",
      "      January                   February                   March\n",
      "Mo Tu We Th Fr Sa Su      Mo Tu We Th Fr Sa Su      Mo Tu We Th Fr Sa Su\n",
      "                1  2          1  2  3  4  5  6          1  2  3  4  5  6\n",
      " 3  4  5  6  7  8  9       7  8  9 10 11 12 13       7  8  9 10 11 12 13\n",
      "10 11 12 13 14 15 16      14 15 16 17 18 19 20      14 15 16 17 18 19 20\n",
      "17 18 19 20 21 22 23      21 22 23 24 25 26 27      21 22 23 24 25 26 27\n",
      "24 25 26 27 28 29 30      28                        28 29 30 31\n",
      "31\n",
      "\n",
      "       April                      May                       June\n",
      "Mo Tu We Th Fr Sa Su      Mo Tu We Th Fr Sa Su      Mo Tu We Th Fr Sa Su\n",
      "             1  2  3                         1             1  2  3  4  5\n",
      " 4  5  6  7  8  9 10       2  3  4  5  6  7  8       6  7  8  9 10 11 12\n",
      "11 12 13 14 15 16 17       9 10 11 12 13 14 15      13 14 15 16 17 18 19\n",
      "18 19 20 21 22 23 24      16 17 18 19 20 21 22      20 21 22 23 24 25 26\n",
      "25 26 27 28 29 30         23 24 25 26 27 28 29      27 28 29 30\n",
      "                          30 31\n",
      "\n",
      "        July                     August                  September\n",
      "Mo Tu We Th Fr Sa Su      Mo Tu We Th Fr Sa Su      Mo Tu We Th Fr Sa Su\n",
      "             1  2  3       1  2  3  4  5  6  7                1  2  3  4\n",
      " 4  5  6  7  8  9 10       8  9 10 11 12 13 14       5  6  7  8  9 10 11\n",
      "11 12 13 14 15 16 17      15 16 17 18 19 20 21      12 13 14 15 16 17 18\n",
      "18 19 20 21 22 23 24      22 23 24 25 26 27 28      19 20 21 22 23 24 25\n",
      "25 26 27 28 29 30 31      29 30 31                  26 27 28 29 30\n",
      "\n",
      "      October                   November                  December\n",
      "Mo Tu We Th Fr Sa Su      Mo Tu We Th Fr Sa Su      Mo Tu We Th Fr Sa Su\n",
      "                1  2          1  2  3  4  5  6                1  2  3  4\n",
      " 3  4  5  6  7  8  9       7  8  9 10 11 12 13       5  6  7  8  9 10 11\n",
      "10 11 12 13 14 15 16      14 15 16 17 18 19 20      12 13 14 15 16 17 18\n",
      "17 18 19 20 21 22 23      21 22 23 24 25 26 27      19 20 21 22 23 24 25\n",
      "24 25 26 27 28 29 30      28 29 30                  26 27 28 29 30 31\n",
      "31\n",
      "\n",
      "None\n"
     ]
    }
   ],
   "source": [
    "import calendar\n",
    "# print(calendar.calendar(2022))\n",
    "print(calendar.prcal(2022))"
   ]
  },
  {
   "cell_type": "code",
   "execution_count": 35,
   "metadata": {},
   "outputs": [
    {
     "name": "stdout",
     "output_type": "stream",
     "text": [
      "3\n",
      "(4, 31)\n"
     ]
    }
   ],
   "source": [
    "print(calendar.weekday(2022, 7, 14)) # 해당 요일 정보를 반환(월:0, 화 ~ 일:6)\n",
    "print(calendar.monthrange(2022, 7)) # 입력받은 달의 1일이 무슨 요일인지, 그 달이 며칠까지 있는 지 튜플 형태로 반환"
   ]
  },
  {
   "cell_type": "markdown",
   "metadata": {},
   "source": [
    "### random\n",
    "- 난수 발생, 단 'NUMPY'의 random과 혼동하지 않도록 유의할 것."
   ]
  },
  {
   "cell_type": "code",
   "execution_count": 36,
   "metadata": {},
   "outputs": [
    {
     "data": {
      "text/plain": [
       "0.15772566780774633"
      ]
     },
     "execution_count": 36,
     "metadata": {},
     "output_type": "execute_result"
    }
   ],
   "source": [
    "import random\n",
    "random.random() # 0.0 ~ 1.0"
   ]
  },
  {
   "cell_type": "code",
   "execution_count": 41,
   "metadata": {},
   "outputs": [
    {
     "data": {
      "text/plain": [
       "5"
      ]
     },
     "execution_count": 41,
     "metadata": {},
     "output_type": "execute_result"
    }
   ],
   "source": [
    "random.randint(3, 10) # 3 ~ 10사이의 '정수' 중 1번만 값을 돌려줌"
   ]
  },
  {
   "cell_type": "code",
   "execution_count": 43,
   "metadata": {},
   "outputs": [
    {
     "data": {
      "text/plain": [
       "7"
      ]
     },
     "execution_count": 43,
     "metadata": {},
     "output_type": "execute_result"
    }
   ],
   "source": [
    "random.randrange(3, 10, 2)"
   ]
  },
  {
   "cell_type": "code",
   "execution_count": null,
   "metadata": {},
   "outputs": [],
   "source": []
  }
 ],
 "metadata": {
  "kernelspec": {
   "display_name": "Python 3.6.8 64-bit",
   "language": "python",
   "name": "python3"
  },
  "language_info": {
   "codemirror_mode": {
    "name": "ipython",
    "version": 3
   },
   "file_extension": ".py",
   "mimetype": "text/x-python",
   "name": "python",
   "nbconvert_exporter": "python",
   "pygments_lexer": "ipython3",
   "version": "3.6.8"
  },
  "orig_nbformat": 4,
  "vscode": {
   "interpreter": {
    "hash": "e4155384af5840d15d68e8597407fad2e99d1893f7ce8c3788bc9723b5f2c767"
   }
  }
 },
 "nbformat": 4,
 "nbformat_minor": 2
}
