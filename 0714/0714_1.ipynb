{
 "cells": [
  {
   "cell_type": "markdown",
   "metadata": {},
   "source": [
    "패키지\n",
    "- 도트를 사용하여 파이썬 모듈을 계층적으로 관리 가능\n",
    "예) 모듈 이름이 A, B인 경우에 A는 패키지 이름, B는 A 패키지의 모듈\n",
    "___\n",
    "\n",
    "- game 디렉터리가 패키지의 루트 디렉터리, 나머지는 서브 디렉터리\n",
    "\n",
    "___\n",
    "\n",
    "- SET 명령어로 PYTHONPATH 환경 변수에 C:\\Users\\user\\Desktop\\Personal_Coding_Space\\sesac_python_basic\\0714 디렉터리를 추가한다. \n",
    "그리고 파이썬 이터프리터를 실행한다.\n",
    "  \n",
    "![png](../images/pkg1.PNG)\n",
    "\n",
    "![png](../images/pkg2.PNG)\n",
    "\n",
    "![png](../images/pkg3.PNG)"
   ]
  },
  {
   "cell_type": "code",
   "execution_count": null,
   "metadata": {},
   "outputs": [],
   "source": [
    "# echo.py\n",
    "def echo_test():\n",
    "    print('echo')"
   ]
  },
  {
   "cell_type": "code",
   "execution_count": null,
   "metadata": {},
   "outputs": [],
   "source": [
    "# render.py\n",
    "def render_test():\n",
    "    print('render')"
   ]
  },
  {
   "cell_type": "markdown",
   "metadata": {},
   "source": [
    "단, 다음과 같이 echo_test() 함수를 사용하는 것은 불가능\n",
    "\n",
    "> import game   \n",
    "> game.sound.echo.echo_test()\n",
    "\n",
    "    * game의 __init__에 걸림\n",
    "혹은\n",
    "\n",
    "> import game.sound.echo.echo_test\n",
    "\n",
    "    * 가장 마지막 자리의 echo_test는 함수(메서드)이다.\n",
    "    \n",
    "- import a.b.c에서 c(가장 마지막 자리)는 반드시 모듈이나 패키지여야 한다."
   ]
  },
  {
   "cell_type": "markdown",
   "metadata": {},
   "source": [
    "# \\_\\_init\\_\\_.py 용도\n",
    "\n",
    "- 해당 디렉터리가 패키지의 일부임을 알려주는 역할로, 패키지에 포함된 디렉터리에 \\_\\_init\\_\\_.py가 존재하지 않으면 인식되지 않음"
   ]
  },
  {
   "cell_type": "markdown",
   "metadata": {},
   "source": [
    "\\_\\_all\\_\\_을 이용하여, sound 디렉터리에서 * 기호를 사용하여 import할 경우 이곳에 정의된 echo 모듈만 import 된다는 의미\n",
    "\n",
    "![PNG](../images/pkg4.PNG)\n",
    "\n",
    "> from game.sound import * == from game.sound import echo"
   ]
  },
  {
   "cell_type": "code",
   "execution_count": null,
   "metadata": {},
   "outputs": [],
   "source": [
    "# sound/__init__.py\n",
    "__all__ = ['echo']\n",
    "\n",
    "# render/__init__.py\n",
    "__all__ = ['render']"
   ]
  },
  {
   "cell_type": "markdown",
   "metadata": {},
   "source": [
    "## relative 패키지\n",
    "\n",
    "- 만약 graphic 디렉터리의 render.py 모듈이 sound 디렉터리의 echo.py 모듈을 사용하고 싶다면, 다음과 같이 render.py를 수정하자.\n",
    "```python\n",
    "# render.py\n",
    "from game.sound.echo import echo_test\n",
    "\n",
    "def render_test():\n",
    "    print('render')\n",
    "    echo_test()\n",
    "```\n",
    "\n",
    "\n",
    "![PNG](../images/pkg5.PNG\n",
    ")"
   ]
  },
  {
   "cell_type": "markdown",
   "metadata": {},
   "source": [
    "- 위처럼 직접 game.sound.echo 형식처럼 전체 경로를 사용해도 되지만, '..'를 이용해 relative하게 경로를 적용할 수 있다.\n",
    "- 여기서 '..'은 부모 디렉터리, '.'은 현재 디렉터리를 의미한다. 'graphic' 폴더의 부모 디렉터리이므로 'game' 디렉터리임을 알 수 있다.\n",
    "\n",
    "```python\n",
    "# render.py\n",
    "from ..sound.echo import echo_test\n",
    "\n",
    "def render_test():\n",
    "    print('render')\n",
    "    echo_test()\n",
    "```"
   ]
  },
  {
   "cell_type": "markdown",
   "metadata": {},
   "source": []
  }
 ],
 "metadata": {
  "kernelspec": {
   "display_name": "Python 3.6.8 64-bit",
   "language": "python",
   "name": "python3"
  },
  "language_info": {
   "codemirror_mode": {
    "name": "ipython",
    "version": 3
   },
   "file_extension": ".py",
   "mimetype": "text/x-python",
   "name": "python",
   "nbconvert_exporter": "python",
   "pygments_lexer": "ipython3",
   "version": "3.6.8"
  },
  "orig_nbformat": 4,
  "vscode": {
   "interpreter": {
    "hash": "e4155384af5840d15d68e8597407fad2e99d1893f7ce8c3788bc9723b5f2c767"
   }
  }
 },
 "nbformat": 4,
 "nbformat_minor": 2
}
