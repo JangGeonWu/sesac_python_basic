{
 "cells": [
  {
   "cell_type": "code",
   "execution_count": 2,
   "metadata": {},
   "outputs": [
    {
     "name": "stdout",
     "output_type": "stream",
     "text": [
      "트럭 --> 현재 속도(슈퍼 클래스): 200\n",
      "승용차 -->현재 속도(서브 클래스): 150\n",
      "소나타 -->현재 속도(서브 클래스): 150\n"
     ]
    }
   ],
   "source": [
    "class Car:\n",
    "    speed = 0\n",
    "    def upSpeed(self, value):\n",
    "        self.speed += value\n",
    "\n",
    "        print('현재 속도(슈퍼 클래스): %d'%self.speed)\n",
    "\n",
    "class Sedan(Car):\n",
    "    def upSpeed(self, value):\n",
    "        self.speed += value\n",
    "\n",
    "        if self.speed > 150:\n",
    "            self.speed = 150\n",
    "\n",
    "        print('현재 속도(서브 클래스): %d'%self.speed)\n",
    "\n",
    "class Truck(Car):\n",
    "    pass\n",
    "\n",
    "class Sonata(Sedan):\n",
    "    pass\n",
    "\n",
    "truck1 = Truck()\n",
    "sedan1 = Sedan()\n",
    "sonata1 = Sonata()\n",
    "\n",
    "print('트럭 --> ', end='')\n",
    "truck1.upSpeed(200)\n",
    "\n",
    "print('승용차 -->', end='')\n",
    "sedan1.upSpeed(200)\n",
    "\n",
    "print('소나타 -->', end='')\n",
    "sonata1.upSpeed(200)"
   ]
  },
  {
   "cell_type": "code",
   "execution_count": 6,
   "metadata": {},
   "outputs": [
    {
     "name": "stdout",
     "output_type": "stream",
     "text": [
      "**lotto 추첨을 시작합니다**\n",
      "\n",
      "추첨된 로또번호 --> 2 7 20 37 40 41 "
     ]
    }
   ],
   "source": [
    "import random\n",
    "\n",
    "def getNumber():\n",
    "    return random.randrange(1, 46)\n",
    "\n",
    "lotto = []\n",
    "num = 0\n",
    "\n",
    "print('**lotto 추첨을 시작합니다**\\n')\n",
    "while True:\n",
    "    num = getNumber()\n",
    "\n",
    "    if lotto.count(num) == 0: # 중복된 입력 방지\n",
    "        lotto.append(num)\n",
    "\n",
    "    if len(lotto) >= 6:\n",
    "        break\n",
    "\n",
    "print('추첨된 로또번호 --> ', end ='')\n",
    "lotto.sort()\n",
    "for i in range(0, 6):\n",
    "    print('%d '%lotto[i], end='')"
   ]
  },
  {
   "cell_type": "code",
   "execution_count": 4,
   "metadata": {},
   "outputs": [
    {
     "name": "stdout",
     "output_type": "stream",
     "text": [
      "대학생\n"
     ]
    }
   ],
   "source": [
    "# if ~ elif ~ else\n",
    "# 20 ~ 26세 대학생, 17세 이상이면 고등학생, 14세 이상이면 중학생, 8세 이상이면 초등학생, 나머지는 '나이는 ~~세 학생이 아닙니다' 라고 출력하세요.\n",
    "# 단, 입력은 태어난 연도입니다.\n",
    "birth = int(input('태어난 연도를 입력하세요: '))\n",
    "age = 2022 - birth + 1\n",
    "\n",
    "if 20 <= age <= 26:\n",
    "    print('대학생')\n",
    "elif 20 > age >= 17:\n",
    "    print('고등학생')\n",
    "elif 17 > age >= 14:\n",
    "    print('중학생')\n",
    "elif 14 > age >= 8:\n",
    "    print('초등학생')\n",
    "else:\n",
    "    print(f\"나이는 {age}세, 학생이 아닙니다.\")\n",
    "\n"
   ]
  }
 ],
 "metadata": {
  "kernelspec": {
   "display_name": "Python 3.6.8 64-bit",
   "language": "python",
   "name": "python3"
  },
  "language_info": {
   "codemirror_mode": {
    "name": "ipython",
    "version": 3
   },
   "file_extension": ".py",
   "mimetype": "text/x-python",
   "name": "python",
   "nbconvert_exporter": "python",
   "pygments_lexer": "ipython3",
   "version": "3.6.8"
  },
  "orig_nbformat": 4,
  "vscode": {
   "interpreter": {
    "hash": "e4155384af5840d15d68e8597407fad2e99d1893f7ce8c3788bc9723b5f2c767"
   }
  }
 },
 "nbformat": 4,
 "nbformat_minor": 2
}
