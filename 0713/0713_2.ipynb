{
 "cells": [
  {
   "cell_type": "code",
   "execution_count": null,
   "metadata": {},
   "outputs": [],
   "source": [
    "# Class & Method\n",
    "res = 0\n",
    "\n",
    "def add(num):\n",
    "    global res\n",
    "    res += num\n",
    "    return res\n",
    "\n",
    "print(add(3)) # 전역변수 res가 3이 된다.\n",
    "print(add(4))"
   ]
  },
  {
   "cell_type": "code",
   "execution_count": null,
   "metadata": {},
   "outputs": [],
   "source": [
    "# 위 기능을 하는 계산기 2개/를 하나의 py에서 구현하려면? 변수랑 함수를 복사!... 하는건 비효율적이다.\n",
    "# 아래와 같이 클래스를 생성하여 관리하면 편하다.\n",
    "class Calculator:\n",
    "    def __init__(self):\n",
    "        self.result = 0\n",
    "\n",
    "    def add(self, num):\n",
    "        self.result += num\n",
    "        return self.result\n",
    "\n",
    "    def sub(self, num):\n",
    "        self.result -= num\n",
    "        return self.result\n",
    "\n",
    "cal1 = Calculator()        \n",
    "cal2 = Calculator()\n",
    "\n",
    "print(cal1.add(3))\n",
    "print(cal1.add(4))\n",
    "print('---------')\n",
    "print(cal2.add(5))\n",
    "print(cal2.add(6))\n",
    "print(cal2.sub(10))"
   ]
  },
  {
   "cell_type": "code",
   "execution_count": 17,
   "metadata": {},
   "outputs": [],
   "source": [
    "# 클래스를 사용해 생성되는 것이 '객체', 해당 '객체'는 해당 클래스와 '인스턴스' 관계를 가짐\n",
    "# 클래스 생성 과정\n",
    "\n",
    "class FourCal: # FourCal이라는 클래스 정의\n",
    "    def __init__(self, first, second):\n",
    "        self.first = first\n",
    "        self.second = second\n",
    "\n",
    "    def setdata(self, first, second): # 클래스 안에 생성된 함수를 메서드라고 한다\n",
    "        self.first = first # self.first는 객체 본인의 변수, 그냥 first는 입력된 파라미터를 의미\n",
    "        self.second = second \n",
    "    def add(self):\n",
    "        result = self.first + self.second\n",
    "        return result\n",
    "    def mul(self):\n",
    "        result = self.first * self.second\n",
    "        return result\n",
    "    def sub(self):\n",
    "        result = self.first - self.second\n",
    "        return result\n",
    "    def div(self):\n",
    "        result = self.first / self.second\n",
    "        return result\n",
    "\n"
   ]
  },
  {
   "cell_type": "code",
   "execution_count": 18,
   "metadata": {},
   "outputs": [
    {
     "name": "stdout",
     "output_type": "stream",
     "text": [
      "4 2\n",
      "6\n",
      "8\n",
      "2\n",
      "2.0\n"
     ]
    }
   ],
   "source": [
    "a = FourCal(4, 2) # __init__을 사용\n",
    "# print(type(a)) # <class '__main__.FourCal'>, 객체 a의 타입은 FourCal 클래스이다.\n",
    "\n",
    "# a.setdata(4, 2) # class a의 변수 first, second 초기화\n",
    "print(a.first, a.second)\n",
    "\n",
    "print(a.add())\n",
    "print(a.mul())\n",
    "print(a.sub())\n",
    "print(a.div())"
   ]
  },
  {
   "cell_type": "code",
   "execution_count": 16,
   "metadata": {},
   "outputs": [
    {
     "name": "stdout",
     "output_type": "stream",
     "text": [
      "3 7\n",
      "10\n",
      "21\n",
      "-4\n",
      "0.42857142857142855\n"
     ]
    }
   ],
   "source": [
    "b = FourCal()\n",
    "b.setdata(3,7)\n",
    "print(b.first, b.second)\n",
    "\n",
    "print(b.add())\n",
    "print(b.mul())\n",
    "print(b.sub())\n",
    "print(b.div())"
   ]
  },
  {
   "cell_type": "code",
   "execution_count": 5,
   "metadata": {},
   "outputs": [
    {
     "name": "stdout",
     "output_type": "stream",
     "text": [
      "1608941776\n",
      "1608941744\n"
     ]
    }
   ],
   "source": [
    "print(id(a.first))\n",
    "print(id(b.first))\n",
    "# 서로 다른 주소값, 두 객체 변수는 서로 독립적임을 알 수 있다."
   ]
  },
  {
   "cell_type": "code",
   "execution_count": 22,
   "metadata": {},
   "outputs": [],
   "source": [
    "# 클래스의 상속(inheritance), 해당 클래스의 기능을 물려받을 수 있다.\n",
    "class MOREFourCal(FourCal):\n",
    "    def pow(self): # 상속받은 클래스에서 새로운 메서드를 추가하였다.\n",
    "        result = self.first ** self.second\n",
    "        return result"
   ]
  },
  {
   "cell_type": "code",
   "execution_count": 23,
   "metadata": {},
   "outputs": [
    {
     "name": "stdout",
     "output_type": "stream",
     "text": [
      "12\n",
      "32\n",
      "0.5\n",
      "-4\n",
      "65536\n"
     ]
    }
   ],
   "source": [
    "c = MOREFourCal(4, 8) # FourCal 클래스를 물려받았기 때문에\n",
    "print(c.add()) # FourCal 클래스의 메서드를 사용 가능\n",
    "print(c.mul())\n",
    "print(c.div())\n",
    "print(c.sub())\n",
    "\n",
    "print(c.pow()) # MOREFourCal에서 추가로 정의한 메서드"
   ]
  },
  {
   "cell_type": "code",
   "execution_count": 17,
   "metadata": {},
   "outputs": [],
   "source": [
    "class Car:\n",
    "    color = \"\"\n",
    "    speed = 0 # 2개의 매개변수와 디폴트 값 선언\n",
    "    def __init__(self, value1, value2):\n",
    "        self.color = value1\n",
    "        self.speed = value2\n",
    "\n",
    "    def upSpeed(self, value):\n",
    "        self.speed += value\n",
    "        if self.speed > 150:\n",
    "            print('warning! 최고 속도 150를 넘기지 마세요')\n",
    "            self.speed = 150\n",
    "\n",
    "        print(f'현재 속도는 {self.speed}')\n",
    "    \n",
    "    def downSpeed(self, value):\n",
    "        self.speed -= value\n",
    "        if self.speed < 0:\n",
    "            self.speed = 0\n",
    "\n",
    "    def desc(self):\n",
    "        print(f\"자동차의 색은 {self.color}이며 속도는 {self.speed}입니다.\")"
   ]
  },
  {
   "cell_type": "code",
   "execution_count": 20,
   "metadata": {},
   "outputs": [
    {
     "name": "stdout",
     "output_type": "stream",
     "text": [
      "자동차의 색은 red이며 속도는 30입니다.\n",
      "자동차의 색은 black이며 속도는 50입니다.\n"
     ]
    }
   ],
   "source": [
    "mCar1 = Car(\"red\", 30)\n",
    "mCar2 = Car('black', 50)\n",
    "\n",
    "mCar1.desc()\n",
    "mCar2.desc()"
   ]
  },
  {
   "cell_type": "code",
   "execution_count": 15,
   "metadata": {},
   "outputs": [],
   "source": [
    "class Sedan(Car):\n",
    "    def upSpeed(self, value):\n",
    "        self.speed += value\n",
    "\n",
    "        if self.speed > 200:\n",
    "            print('warning! 최고 속도 200를 넘기지 마세요')\n",
    "            self.speed = 200\n",
    "        \n",
    "        print(f'현재 속도는 {self.speed}')\n",
    "\n",
    "class Truck(Car):\n",
    "    pass\n"
   ]
  },
  {
   "cell_type": "code",
   "execution_count": 19,
   "metadata": {},
   "outputs": [
    {
     "name": "stdout",
     "output_type": "stream",
     "text": [
      "자동차의 색은 yellow이며 속도는 130입니다.\n",
      "자동차의 색은 blue이며 속도는 150입니다.\n"
     ]
    }
   ],
   "source": [
    "mCar3 = Sedan(\"yellow\", 130)\n",
    "mCar4 = Truck('blue', 150)\n",
    "\n",
    "mCar3.desc()\n",
    "mCar4.desc()"
   ]
  },
  {
   "cell_type": "code",
   "execution_count": 21,
   "metadata": {},
   "outputs": [
    {
     "name": "stdout",
     "output_type": "stream",
     "text": [
      "현재 속도는 130\n",
      "현재 속도는 150\n",
      "warning! 최고 속도 200를 넘기지 마세요\n",
      "현재 속도는 200\n",
      "warning! 최고 속도 150를 넘기지 마세요\n",
      "현재 속도는 150\n"
     ]
    }
   ],
   "source": [
    "mCar1.upSpeed(100)\n",
    "mCar2.upSpeed(100)\n",
    "mCar3.upSpeed(100)\n",
    "mCar4.upSpeed(100)"
   ]
  },
  {
   "cell_type": "code",
   "execution_count": 22,
   "metadata": {},
   "outputs": [],
   "source": [
    "class Sonata(Sedan):\n",
    "    pass"
   ]
  },
  {
   "cell_type": "code",
   "execution_count": null,
   "metadata": {},
   "outputs": [],
   "source": []
  }
 ],
 "metadata": {
  "kernelspec": {
   "display_name": "Python 3.6.8 64-bit",
   "language": "python",
   "name": "python3"
  },
  "language_info": {
   "codemirror_mode": {
    "name": "ipython",
    "version": 3
   },
   "file_extension": ".py",
   "mimetype": "text/x-python",
   "name": "python",
   "nbconvert_exporter": "python",
   "pygments_lexer": "ipython3",
   "version": "3.6.8"
  },
  "orig_nbformat": 4,
  "vscode": {
   "interpreter": {
    "hash": "e4155384af5840d15d68e8597407fad2e99d1893f7ce8c3788bc9723b5f2c767"
   }
  }
 },
 "nbformat": 4,
 "nbformat_minor": 2
}
